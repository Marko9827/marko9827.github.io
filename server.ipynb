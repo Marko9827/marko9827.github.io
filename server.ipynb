{
 "cells": [
  {
   "cell_type": "code",
   "execution_count": null,
   "metadata": {},
   "outputs": [
    {
     "name": "stdout",
     "output_type": "stream",
     "text": [
      "Generišem SSL sertifikat sa mkcert...\n",
      "Pokrećem PHP HTTPS server...\n"
     ]
    }
   ],
   "source": [
    "import os\n",
    "import subprocess\n",
    "import webbrowser\n",
    "\n",
    "# Ako pokrećeš iz .ipynb, trenutni folder će biti root projekta\n",
    "project_root = os.getcwd()\n",
    "\n",
    "# Folder za SSL fajlove unutar root-a\n",
    "ssl_dir = os.path.join(project_root, \"server\")\n",
    "os.makedirs(ssl_dir, exist_ok=True)\n",
    "\n",
    "# Putanje do cert i key fajlova\n",
    "cert_file = os.path.join(ssl_dir, \"localhost.pem\")\n",
    "key_file = os.path.join(ssl_dir, \"localhost-key.pem\")\n",
    "\n",
    "# Proveri da li postoje sertifikat i ključ, ako ne, napravi ih mkcert-om\n",
    "if not (os.path.exists(cert_file) and os.path.exists(key_file)):\n",
    "    print(\"Generišem SSL sertifikat sa mkcert...\")\n",
    "    subprocess.run([\"mkcert\", \"-install\"], check=True)\n",
    "    subprocess.run([\"mkcert\", \"localhost\"], cwd=ssl_dir, check=True)\n",
    "<iframe width=\"934\" height=\"534\" src=\"https://www.youtube.com/embed/swZu00d72vA?list=PLHKmvgEvbaBhoI0_kaILJWJSbiKfcKT-P\" title=\"&quot;Nesto Gleda Kroz Moje oci&quot; Creepypasta\" frameborder=\"0\" allow=\"accelerometer; autoplay; clipboard-write; encrypted-media; gyroscope; picture-in-picture; web-share\" referrerpolicy=\"strict-origin-when-cross-origin\" allowfullscreen></iframe>\n",
    "# Pokreni PHP server iz root-a\n",
    "print(\"Pokrećem PHP HTTPS server...\")\n",
    "php_cmd = [\n",
    "    \"php\", \"-S\", \"localhost:8000\", \"-t\", project_root,\n",
    "    \"-d\", f\"ssl_cert_file={cert_file}\",\n",
    "    \"-d\", f\"ssl_key_file={key_file}\"\n",
    "]\n",
    "\n",
    "server_process = subprocess.Popen(php_cmd, cwd=project_root)\n",
    "\n",
    "# Automatski otvori browser\n",
    "webbrowser.open(\"https://localhost:3000\")\n",
    "\n",
    "try:\n",
    "    server_process.wait()\n",
    "except KeyboardInterrupt:\n",
    "    print(\"\\nZaustavljam server...\")\n",
    "    server_process.terminate()\n"
   ]
  }
 ],
 "metadata": {
  "kernelspec": {
   "display_name": "Python 3",
   "language": "python",
   "name": "python3"
  },
  "language_info": {
   "codemirror_mode": {
    "name": "ipython",
    "version": 3
   },
   "file_extension": ".py",
   "mimetype": "text/x-python",
   "name": "python",
   "nbconvert_exporter": "python",
   "pygments_lexer": "ipython3",
   "version": "3.13.6"
  }
 },
 "nbformat": 4,
 "nbformat_minor": 2
}
